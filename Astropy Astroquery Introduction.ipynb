{
 "cells": [
  {
   "cell_type": "markdown",
   "metadata": {},
   "source": [
    "# A Way-too-quick Intro to Astropy and Astroquery\n",
    "\n",
    "Welcome! This notebook will walk you through a few things that you can do with the [Astropy] and [Astroquery] Python modules. We only have an hour, so this will only scratch the surface.\n",
    "\n",
    "[Astropy]: https://www.astropy.org/\n",
    "[Astroquery]: https://astroquery.readthedocs.io/\n",
    "\n",
    "**Astropy** is a library of all sorts of Python code that is useful for astronomers. It's very wide-ranging so it's worth your while to skim [the documentation] to get a sense of all the things that it can do! We'll just look at a few foundational parts of it.\n",
    "\n",
    "It's worth mentioning that Astropy is very carefully designed, and it is highly-respected across the Python world. We are lucky to have it!\n",
    "\n",
    "[the documentation]: https://astroquery.readthedocs.io/en/latest/\n",
    "\n",
    "**Astroquery** is a related package that helps you query astronomy databases and download data from telescope archives. It is super useful since so much astronomy data is in the cloud these days.\n",
    "\n",
    "## Preliminaries\n",
    "\n",
    "As is almost always the case, we will need to start off our notebook by importing various modules that we'll need."
   ]
  },
  {
   "cell_type": "code",
   "execution_count": null,
   "metadata": {},
   "outputs": [],
   "source": [
    "import numpy as np\n",
    "from astropy import units as u\n",
    "from astropy.timeseries import TimeSeries\n",
    "from aas_timeseries import InteractiveTimeSeriesFigure\n",
    "from astroquery.mast import Observations\n",
    "# You can safely ignore the \"AstropyDeprecationWarning\"."
   ]
  },
  {
   "cell_type": "markdown",
   "metadata": {},
   "source": [
    "## Astropy \"Quantities\" and Units\n",
    "\n",
    "Astropy has a very neat system for tagging your variables with what units they're measured in. This is great since confusion over units is a **constant** source of bugs in scientific software.\n",
    "\n",
    "Here we'll set up a variable called `reff`, for \"effective radius\", that is measured in parsecs. The big trick is that you multiply your number by a special unit variable:"
   ]
  },
  {
   "cell_type": "code",
   "execution_count": null,
   "metadata": {},
   "outputs": [],
   "source": [
    "reff = 29 * u.pc\n",
    "reff # this pattern creates the variable, and then prints it out so we can see what we got"
   ]
  },
  {
   "cell_type": "markdown",
   "metadata": {},
   "source": [
    "What is that in meters?"
   ]
  },
  {
   "cell_type": "code",
   "execution_count": null,
   "metadata": {},
   "outputs": [],
   "source": [
    "reff.to(u.m)"
   ]
  },
  {
   "cell_type": "markdown",
   "metadata": {},
   "source": [
    "#### Exercise!\n",
    "\n",
    "`reff` is the effective *radius* of a galaxy. Pretending the galaxy is a circle, what is its effective area in square kilometers? You can just type in π as a number, or use the variable `np.pi`.\n"
   ]
  },
  {
   "cell_type": "code",
   "execution_count": null,
   "metadata": {},
   "outputs": [],
   "source": [
    "# Use Python as a calculator here to compute an answer! Preferably using the `reff.to()` function."
   ]
  },
  {
   "cell_type": "markdown",
   "metadata": {},
   "source": [
    "The Astropy units system forces you to specify your units whenever there's a chance of doing something ambiguous."
   ]
  },
  {
   "cell_type": "code",
   "execution_count": null,
   "metadata": {},
   "outputs": [],
   "source": [
    "reff + 14  # This will issue an error, and rightfully so. Did you mean 14 km? 14 pc? 14 feet??"
   ]
  },
  {
   "cell_type": "markdown",
   "metadata": {},
   "source": [
    "Astropy includes physical constants with their units tagged, which helps make sure you get your equations right. For instance, let's write a function to calculate the spectral radiance of a blackbody in the Rayleigh-Jeans limit (no worries if you're not familiar with the physics — we're just multiplying a few numbers):"
   ]
  },
  {
   "cell_type": "code",
   "execution_count": null,
   "metadata": {},
   "outputs": [],
   "source": [
    "def rj_blackbody(temperature, frequency):\n",
    "    from astropy.constants import c, k_B\n",
    "    \n",
    "    if not u.Quantity(temperature).unit.is_equivalent(u.K):\n",
    "        raise ValueError('temperature must be in a Kelvin-equivalent unit')\n",
    "    \n",
    "    if not u.Quantity(frequency).unit.is_equivalent(u.Hz):\n",
    "        raise ValueError('temperature must be in a Hertz-equivalent unit')\n",
    "    \n",
    "    return 2 * frequency**2 * k_B * temperature / c**2"
   ]
  },
  {
   "cell_type": "markdown",
   "metadata": {},
   "source": [
    "The code to this function was short, but using the units system makes sure that we're always clear on what we're talking about. What are the units of spectral radiance again, anyway?"
   ]
  },
  {
   "cell_type": "code",
   "execution_count": null,
   "metadata": {},
   "outputs": [],
   "source": [
    "spec_rad = rj_blackbody(5800 * u.K, 10 * u.GHz)\n",
    "spec_rad.decompose()"
   ]
  },
  {
   "cell_type": "markdown",
   "metadata": {},
   "source": [
    "The units subsystem is just one tiny piece of Astropy, but it's so useful that almost every other part of Astropy builds on top of it."
   ]
  },
  {
   "cell_type": "markdown",
   "metadata": {},
   "source": [
    "## Astroquery: Downloading TESS data\n",
    "\n",
    "We'll change gears now and download some data from NASA using Astroquery!\n",
    "\n",
    "At the top, we imported a variable named `Observations` from the `astroquery.mast` module, which sends queries to the \"MAST\" archive run by NASA. MAST mainly contains data from Hubble, but it stores data for lots of other missions too.\n",
    "\n",
    "First, we'll ask MAST what observations it has of the star HD 21749:"
   ]
  },
  {
   "cell_type": "code",
   "execution_count": null,
   "metadata": {},
   "outputs": [],
   "source": [
    "obslist = Observations.query_object(\"HD 21749\", radius=\"0.02 deg\")\n",
    "obslist  # once again, ending the cell with the variable name will show us what it contains"
   ]
  },
  {
   "cell_type": "markdown",
   "metadata": {},
   "source": [
    "The way MAST organizes things, the next step is to download a list of \"data products\". We'll limit ourselves to ones from the recent TESS mission: "
   ]
  },
  {
   "cell_type": "code",
   "execution_count": null,
   "metadata": {},
   "outputs": [],
   "source": [
    "is_tess_obs = (obslist['obs_collection'] == 'TESS')\n",
    "dp = Observations.get_product_list(obslist[is_tess_obs])\n",
    "dp"
   ]
  },
  {
   "cell_type": "markdown",
   "metadata": {},
   "source": [
    "Now we'll zero in on the \"lightcurve\" data products in particular and have Astroquery download them for us:"
   ]
  },
  {
   "cell_type": "code",
   "execution_count": null,
   "metadata": {},
   "outputs": [],
   "source": [
    "is_lightcurve_product = (dp['dataproduct_type'] == 'timeseries') & (dp['productSubGroupDescription'] == 'LC')\n",
    "manifest = Observations.download_products(dp[is_lightcurve_product])\n",
    "manifest  # a data table listing the files that were downloaded"
   ]
  },
  {
   "cell_type": "markdown",
   "metadata": {},
   "source": [
    "Since lightcurve data pop up all over astronomy, Astropy has special tools for dealing with them. We can read in the first data file into a `TimeSeries` object like so:"
   ]
  },
  {
   "cell_type": "code",
   "execution_count": null,
   "metadata": {},
   "outputs": [],
   "source": [
    "ts = TimeSeries.read(manifest['Local Path'][0], format='tess.fits')\n",
    "ts"
   ]
  },
  {
   "cell_type": "markdown",
   "metadata": {},
   "source": [
    "What's the first thing to do with a data set? Plot it! This code will set up a plot of the light curve:"
   ]
  },
  {
   "cell_type": "code",
   "execution_count": null,
   "metadata": {},
   "outputs": [],
   "source": [
    "fig = InteractiveTimeSeriesFigure()\n",
    "fig.xlabel = 'Time (UTC)'\n",
    "fig.ylabel = 'Flux (electron/s)'\n",
    "markers = fig.add_markers(time_series=ts, column='sap_flux', label='SAP Flux', size=10)"
   ]
  },
  {
   "cell_type": "markdown",
   "metadata": {},
   "source": [
    "And this code will show it:"
   ]
  },
  {
   "cell_type": "code",
   "execution_count": null,
   "metadata": {
    "scrolled": false
   },
   "outputs": [],
   "source": [
    "fig.preview_interactive()"
   ]
  },
  {
   "cell_type": "markdown",
   "metadata": {},
   "source": [
    "On my computer, holding down the `Alt` key and then drawing a box with my mouse will zoom in on the box I draw. Try exploring the different dips and see what their shape is like. What do you think could cause such a transit shape?"
   ]
  },
  {
   "cell_type": "markdown",
   "metadata": {},
   "source": [
    "## If we have time: Astropy Coordinates and Images\n",
    "\n",
    "Sorry, less commentary here! These cells will walk through Astropy's tools for working with sky coordinates and plotting images."
   ]
  },
  {
   "cell_type": "code",
   "execution_count": null,
   "metadata": {},
   "outputs": [],
   "source": [
    "from astropy.coordinates import SkyCoord\n",
    "from astropy.table import Table\n",
    "from IPython.display import Image\n",
    "from urllib.parse import urlencode\n",
    "from urllib.request import urlretrieve\n",
    "\n",
    "# Set up matplotlib and use a nicer set of plot parameters\n",
    "from astropy.visualization import astropy_mpl_style\n",
    "import matplotlib.pyplot as plt\n",
    "plt.style.use(astropy_mpl_style)\n",
    "%matplotlib inline"
   ]
  },
  {
   "cell_type": "code",
   "execution_count": null,
   "metadata": {},
   "outputs": [],
   "source": [
    "# initialize a SkyCood object named hcg7_center at the location of Hickson Compact Group 7\n",
    "hcg7_center = SkyCoord.from_name('HCG 7')"
   ]
  },
  {
   "cell_type": "code",
   "execution_count": null,
   "metadata": {},
   "outputs": [],
   "source": [
    "print(hcg7_center.ra, hcg7_center.dec)\n",
    "print(hcg7_center.ra.hour, hcg7_center.dec.deg)"
   ]
  },
  {
   "cell_type": "markdown",
   "metadata": {},
   "source": [
    "Well, this is kind of lame. I've been singing the praises of Astroquery, but the code I'm copy/pasting doesn't use it :-("
   ]
  },
  {
   "cell_type": "code",
   "execution_count": null,
   "metadata": {},
   "outputs": [],
   "source": [
    "# tell the SDSS service how big of a cutout we want\n",
    "im_size = 12 * u.arcmin  # get a 12 arcmin square\n",
    "im_pixels = 1024\n",
    "cutoutbaseurl = 'http://skyservice.pha.jhu.edu/DR12/ImgCutout/getjpeg.aspx'\n",
    "query_string = urlencode(dict(ra=hcg7_center.ra.deg,\n",
    "                              dec=hcg7_center.dec.deg,\n",
    "                              width=im_pixels, height=im_pixels,\n",
    "                              scale=im_size.to(u.arcsec).value/im_pixels))\n",
    "url = cutoutbaseurl + '?' + query_string\n",
    "\n",
    "# this downloads the image to your disk\n",
    "urlretrieve(url, 'HCG7_SDSS_cutout.jpg')"
   ]
  },
  {
   "cell_type": "code",
   "execution_count": null,
   "metadata": {},
   "outputs": [],
   "source": [
    "Image('HCG7_SDSS_cutout.jpg')"
   ]
  },
  {
   "cell_type": "markdown",
   "metadata": {},
   "source": [
    "#### Exercise\n",
    "\n",
    "Emulate the steps above to download an image of another interesting object on the sky. If you can't think of anything in particular, try a Messier object: \"M1\", \"M31\", \"M101\" ... just \"M\" followed by a small number."
   ]
  },
  {
   "cell_type": "code",
   "execution_count": null,
   "metadata": {},
   "outputs": [],
   "source": [
    "# here we go!"
   ]
  }
 ],
 "metadata": {
  "kernelspec": {
   "display_name": "Python 3",
   "language": "python",
   "name": "python3"
  },
  "language_info": {
   "codemirror_mode": {
    "name": "ipython",
    "version": 3
   },
   "file_extension": ".py",
   "mimetype": "text/x-python",
   "name": "python",
   "nbconvert_exporter": "python",
   "pygments_lexer": "ipython3",
   "version": "3.7.1"
  }
 },
 "nbformat": 4,
 "nbformat_minor": 2
}
